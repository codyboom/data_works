{
 "cells": [
  {
   "cell_type": "code",
   "execution_count": 5,
   "metadata": {},
   "outputs": [
    {
     "name": "stdout",
     "output_type": "stream",
     "text": [
      "79\n",
      "26700\n",
      "40+599\n"
     ]
    }
   ],
   "source": [
    "print (23+56)\n",
    "print (89*10*30)\n",
    "print (\"40+599\")"
   ]
  },
  {
   "cell_type": "markdown",
   "metadata": {},
   "source": [
    "# Comments"
   ]
  },
  {
   "cell_type": "code",
   "execution_count": 6,
   "metadata": {},
   "outputs": [
    {
     "name": "stdout",
     "output_type": "stream",
     "text": [
      "commenting\n"
     ]
    }
   ],
   "source": [
    "# This is how the comments are made\n",
    "print('commenting')"
   ]
  },
  {
   "cell_type": "code",
   "execution_count": 10,
   "metadata": {},
   "outputs": [
    {
     "name": "stdout",
     "output_type": "stream",
     "text": [
      "2+2\n",
      "2-2\n",
      "4/2\n",
      "4*2\n",
      "5%2\n",
      "2>3\n"
     ]
    }
   ],
   "source": [
    "print (\"2+2\")\n",
    "print (\"2-2\")\n",
    "print (\"4/2\")\n",
    "print(\"4*2\")\n",
    "print(\"5%2\")\n",
    "print (\"2>3\")\n"
   ]
  },
  {
   "cell_type": "code",
   "execution_count": 2,
   "metadata": {},
   "outputs": [
    {
     "data": {
      "text/plain": [
       "2"
      ]
     },
     "execution_count": 2,
     "metadata": {},
     "output_type": "execute_result"
    }
   ],
   "source": [
    "int(2.5)"
   ]
  },
  {
   "cell_type": "code",
   "execution_count": 3,
   "metadata": {},
   "outputs": [
    {
     "data": {
      "text/plain": [
       "5.0"
      ]
     },
     "execution_count": 3,
     "metadata": {},
     "output_type": "execute_result"
    }
   ],
   "source": [
    "float(5)"
   ]
  },
  {
   "cell_type": "code",
   "execution_count": 4,
   "metadata": {},
   "outputs": [
    {
     "name": "stdout",
     "output_type": "stream",
     "text": [
      "\n"
     ]
    }
   ],
   "source": [
    "print()"
   ]
  },
  {
   "cell_type": "code",
   "execution_count": 5,
   "metadata": {},
   "outputs": [],
   "source": [
    "# Use Shift and Tab as a HELP Buton\n"
   ]
  },
  {
   "cell_type": "code",
   "execution_count": 9,
   "metadata": {},
   "outputs": [
    {
     "data": {
      "text/plain": [
       "5"
      ]
     },
     "execution_count": 9,
     "metadata": {},
     "output_type": "execute_result"
    }
   ],
   "source": [
    "int(\"5\")"
   ]
  },
  {
   "cell_type": "code",
   "execution_count": 11,
   "metadata": {},
   "outputs": [
    {
     "data": {
      "text/plain": [
       "10"
      ]
     },
     "execution_count": 11,
     "metadata": {},
     "output_type": "execute_result"
    }
   ],
   "source": [
    "int (\"5\")+5"
   ]
  },
  {
   "cell_type": "code",
   "execution_count": 12,
   "metadata": {},
   "outputs": [
    {
     "data": {
      "text/plain": [
       "'54'"
      ]
     },
     "execution_count": 12,
     "metadata": {},
     "output_type": "execute_result"
    }
   ],
   "source": [
    "\"5\"+\"4\""
   ]
  },
  {
   "cell_type": "code",
   "execution_count": 15,
   "metadata": {},
   "outputs": [
    {
     "name": "stdout",
     "output_type": "stream",
     "text": [
      "Hello\n",
      "World\n"
     ]
    }
   ],
   "source": [
    "print(\"Hello\")\n",
    "print(\"World\")"
   ]
  },
  {
   "cell_type": "code",
   "execution_count": 16,
   "metadata": {},
   "outputs": [
    {
     "data": {
      "text/plain": [
       "'Hello World!'"
      ]
     },
     "execution_count": 16,
     "metadata": {},
     "output_type": "execute_result"
    }
   ],
   "source": [
    "\"Hello \"+\"World!\""
   ]
  },
  {
   "cell_type": "code",
   "execution_count": 17,
   "metadata": {
    "scrolled": true
   },
   "outputs": [
    {
     "name": "stdout",
     "output_type": "stream",
     "text": [
      "4\n"
     ]
    }
   ],
   "source": [
    "print(2+2)\n",
    "# will give us 4"
   ]
  },
  {
   "cell_type": "code",
   "execution_count": 18,
   "metadata": {},
   "outputs": [
    {
     "name": "stdout",
     "output_type": "stream",
     "text": [
      "5%2 is 1\n"
     ]
    }
   ],
   "source": [
    "# even number \n",
    "print(\"5%2 is\", 5%2)"
   ]
  },
  {
   "cell_type": "code",
   "execution_count": 19,
   "metadata": {},
   "outputs": [
    {
     "data": {
      "text/plain": [
       "0"
      ]
     },
     "execution_count": 19,
     "metadata": {},
     "output_type": "execute_result"
    }
   ],
   "source": [
    "6%2\n"
   ]
  },
  {
   "cell_type": "code",
   "execution_count": 21,
   "metadata": {},
   "outputs": [
    {
     "name": "stdout",
     "output_type": "stream",
     "text": [
      "Don\n"
     ]
    }
   ],
   "source": [
    "name = \"Don\"\n",
    "print(name)"
   ]
  },
  {
   "cell_type": "code",
   "execution_count": 22,
   "metadata": {},
   "outputs": [
    {
     "name": "stdout",
     "output_type": "stream",
     "text": [
      "Kirill\n"
     ]
    }
   ],
   "source": [
    "name = \"Kirill\"\n",
    "print(name)"
   ]
  },
  {
   "cell_type": "code",
   "execution_count": 9,
   "metadata": {},
   "outputs": [
    {
     "name": "stdout",
     "output_type": "stream",
     "text": [
      "18+\n",
      "False\n",
      "False\n"
     ]
    }
   ],
   "source": [
    "age = \"18+\"\n",
    "print(age)\n",
    "age\n",
    "print(age == False)\n",
    "print(age == True)\n"
   ]
  },
  {
   "cell_type": "code",
   "execution_count": 15,
   "metadata": {},
   "outputs": [
    {
     "name": "stdout",
     "output_type": "stream",
     "text": [
      "Hi all!\n",
      "Hi all!\n"
     ]
    }
   ],
   "source": [
    "a = \"Hi all!\"\n",
    "b = a\n",
    "\n",
    "print(a)\n",
    "print(b)"
   ]
  },
  {
   "cell_type": "code",
   "execution_count": 19,
   "metadata": {},
   "outputs": [
    {
     "name": "stdout",
     "output_type": "stream",
     "text": [
      "1234\n",
      "1234\n"
     ]
    }
   ],
   "source": [
    "a = \"Hi all!\"\n",
    "b = a\n",
    "\n",
    "a=1234\n",
    "\n",
    "print(a)\n",
    "print(b)"
   ]
  },
  {
   "cell_type": "code",
   "execution_count": 22,
   "metadata": {},
   "outputs": [
    {
     "name": "stdout",
     "output_type": "stream",
     "text": [
      "True\n",
      "True\n"
     ]
    }
   ],
   "source": [
    "a= 12\n",
    "b = 12\n",
    "print(a is b)\n",
    "print (a==b)"
   ]
  },
  {
   "cell_type": "code",
   "execution_count": 23,
   "metadata": {},
   "outputs": [
    {
     "name": "stdout",
     "output_type": "stream",
     "text": [
      "True\n",
      "True\n"
     ]
    }
   ],
   "source": [
    "a= 12\n",
    "a=b\n",
    "print(a is b)\n",
    "print (a==b)"
   ]
  },
  {
   "cell_type": "code",
   "execution_count": 25,
   "metadata": {},
   "outputs": [
    {
     "name": "stdout",
     "output_type": "stream",
     "text": [
      "False\n",
      "False\n",
      "True\n",
      "True\n"
     ]
    }
   ],
   "source": [
    "e= 1234\n",
    "f=1234\n",
    "print(e is f)\n",
    "print (f is e)\n",
    "print(e==f)\n",
    "print(f==e)"
   ]
  },
  {
   "cell_type": "code",
   "execution_count": 26,
   "metadata": {},
   "outputs": [
    {
     "data": {
      "text/plain": [
       "'\"\\napple = 10\\npineapple = 20\\none apple costs 2$\\none pineapple costs 3$\\nHow much you have to pay for all the apples and pineapples\\n\\nprint 3 lines:\\n\\nI have bought .... apples\\nI have bought ... pineapples \\nIn total I paid ...$\\n'"
      ]
     },
     "execution_count": 26,
     "metadata": {},
     "output_type": "execute_result"
    }
   ],
   "source": [
    "\"\"\"\"\n",
    "apple = 10\n",
    "pineapple = 20\n",
    "one apple costs 2$\n",
    "one pineapple costs 3$\n",
    "How much you have to pay for all the apples and pineapples\n",
    "\n",
    "print 3 lines:\n",
    "\n",
    "I have bought .... apples\n",
    "I have bought ... pineapples \n",
    "In total I paid ...$\n",
    "\"\"\""
   ]
  },
  {
   "cell_type": "code",
   "execution_count": 35,
   "metadata": {},
   "outputs": [
    {
     "name": "stdout",
     "output_type": "stream",
     "text": [
      "I have bought 10 apples\n",
      "I have bought 20 pineapples\n",
      "I have paid 80 $\n"
     ]
    }
   ],
   "source": [
    "print(\"I have bought 10 apples\")\n",
    "print(\"I have bought 20 pineapples\")\n",
    "print (\"I have paid\",10*2+20*3,\"$\")"
   ]
  },
  {
   "cell_type": "code",
   "execution_count": 52,
   "metadata": {},
   "outputs": [
    {
     "name": "stdout",
     "output_type": "stream",
     "text": [
      "I have bought 10 apples\n",
      "I have bought 20 pineapples\n",
      "In total I paid 80 $\n",
      "I have bought 10 apples, 20 pineapple, and in total I've paid 80$\n"
     ]
    }
   ],
   "source": [
    "apple = 10\n",
    "pineapple = 20\n",
    "\n",
    "total_apple = apple*2\n",
    "total_pineapple = pineapple*3\n",
    "total_paid = total_apple+total_pineapple\n",
    "\n",
    "print('I have bought',apple, 'apples')\n",
    "print('I have bought', pineapple,'pineapples')\n",
    "print ('In total I paid', total_apple+total_pineapple, '$')\n",
    "\n",
    "'I have bought {} apples'.format(apple)\n",
    "'I have paid for apples {}$'. format (apple*2)\n",
    "\n",
    "# By numbers you specify the order from format. For ex. {0} - pineapple... \n",
    "\"I have bought {1} apples, {0} pineapple, and in total I've paid {2}$\".format (pineapple,apple,total_paid)\n",
    "\n",
    "# use \"f\"\n",
    "f\"I have bought {apple} apples, {pineapple} pineapple, and in total I've paid {total_paid}$\"\n",
    "\n",
    "result = \"I have bought {1} apples, {0} pineapple, and in total I've paid {2}$\"\n",
    "print(result.format (pineapple,apple,total_paid))\n"
   ]
  },
  {
   "cell_type": "code",
   "execution_count": 54,
   "metadata": {},
   "outputs": [
    {
     "name": "stdout",
     "output_type": "stream",
     "text": [
      "I have bought 10 apples, 20 pineapple, and in total I've paid 80$\n"
     ]
    }
   ],
   "source": [
    "print (f\"I have bought {apple} apples, {pineapple} pineapple, and in total I've paid {total_paid}$\")"
   ]
  },
  {
   "cell_type": "code",
   "execution_count": null,
   "metadata": {},
   "outputs": [],
   "source": []
  }
 ],
 "metadata": {
  "kernelspec": {
   "display_name": "Python 3",
   "language": "python",
   "name": "python3"
  },
  "language_info": {
   "codemirror_mode": {
    "name": "ipython",
    "version": 3
   },
   "file_extension": ".py",
   "mimetype": "text/x-python",
   "name": "python",
   "nbconvert_exporter": "python",
   "pygments_lexer": "ipython3",
   "version": "3.7.3"
  }
 },
 "nbformat": 4,
 "nbformat_minor": 2
}
