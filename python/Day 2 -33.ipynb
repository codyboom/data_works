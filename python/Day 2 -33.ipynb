{
 "cells": [
  {
   "cell_type": "code",
   "execution_count": 1,
   "metadata": {},
   "outputs": [
    {
     "data": {
      "text/plain": [
       "False"
      ]
     },
     "execution_count": 1,
     "metadata": {},
     "output_type": "execute_result"
    }
   ],
   "source": [
    "2>3 and 4<3"
   ]
  },
  {
   "cell_type": "code",
   "execution_count": 2,
   "metadata": {},
   "outputs": [
    {
     "data": {
      "text/plain": [
       "True"
      ]
     },
     "execution_count": 2,
     "metadata": {},
     "output_type": "execute_result"
    }
   ],
   "source": [
    "2==2"
   ]
  },
  {
   "cell_type": "code",
   "execution_count": 4,
   "metadata": {},
   "outputs": [
    {
     "data": {
      "text/plain": [
       "True"
      ]
     },
     "execution_count": 4,
     "metadata": {},
     "output_type": "execute_result"
    }
   ],
   "source": [
    "2<3 and 4<5"
   ]
  },
  {
   "cell_type": "code",
   "execution_count": 30,
   "metadata": {},
   "outputs": [
    {
     "name": "stdout",
     "output_type": "stream",
     "text": [
      "True\n",
      "False\n"
     ]
    }
   ],
   "source": [
    "a= 21\n",
    "b= 21\n",
    "print(a is b)\n",
    "a= 2133\n",
    "b= 2133\n",
    "print(a is b)"
   ]
  },
  {
   "cell_type": "code",
   "execution_count": 82,
   "metadata": {},
   "outputs": [
    {
     "name": "stdout",
     "output_type": "stream",
     "text": [
      "2222\n",
      "apple\n",
      "pineapple\n",
      "['watermellon', 'pineapple', 'banana', 'apple']\n",
      "['apple', 'pineapple']\n",
      "['apple', 'water', 'banana', 'pineapple', 'watermellon']\n",
      "4\n",
      "['water', 'banana', 'pineapple', 'watermellon', 1, 2222, 3]\n",
      "['pineapple', 'watermellon']\n"
     ]
    },
    {
     "data": {
      "text/plain": [
       "True"
      ]
     },
     "execution_count": 82,
     "metadata": {},
     "output_type": "execute_result"
    }
   ],
   "source": [
    "an = [1,2222,3]\n",
    "ann = [\"apple\",\"banana\",\"pineapple\",\"watermellon\"]\n",
    "print(an[1])\n",
    "print(ann[0])\n",
    "print(ann[-2])\n",
    "print(ann[::-1])\n",
    "print(ann[::2]) #every secon step it will skip the value so in this case we will see only 2 values in final result\n",
    "ann.insert(1,\"water\") # insert a new value on position no1\n",
    "print(ann)\n",
    "ann.pop(0) # specifies the value to take off from the list where \"0\" is the index number\n",
    "ann\n",
    "print(len(ann)) # number of elements in the list\n",
    "print((ann)+(an)) # concetenate values\n",
    "(\"Hi\")*4 # just dublicating the value No of times\n",
    "print(ann[2:])\n",
    "2222 in an # specify if the list contains the specified value\n"
   ]
  },
  {
   "cell_type": "code",
   "execution_count": 83,
   "metadata": {},
   "outputs": [
    {
     "data": {
      "text/plain": [
       "'2,1,1,33,44,(1, 2, 3)'"
      ]
     },
     "execution_count": 83,
     "metadata": {},
     "output_type": "execute_result"
    }
   ],
   "source": [
    "x =1 \n",
    "y =2\n",
    "x,y = y,x # the 1st variable == to 1st value and 2nd == 2nd\n",
    "x\n",
    "xx,yy,z = 1,33,44\n",
    "a1 = (1,2,3) # also the list, but not possible to change, delete or add values\n",
    "f\"{x},{y},{xx},{yy},{z},{a1}\"\n"
   ]
  },
  {
   "cell_type": "code",
   "execution_count": 90,
   "metadata": {},
   "outputs": [
    {
     "data": {
      "text/plain": [
       "{'name': 'John', 'age': 33}"
      ]
     },
     "execution_count": 90,
     "metadata": {},
     "output_type": "execute_result"
    }
   ],
   "source": [
    "dict1 = {\"name\":\"John\",\"age\":33}\n",
    "dict1"
   ]
  },
  {
   "cell_type": "code",
   "execution_count": 98,
   "metadata": {},
   "outputs": [
    {
     "data": {
      "text/plain": [
       "True"
      ]
     },
     "execution_count": 98,
     "metadata": {},
     "output_type": "execute_result"
    }
   ],
   "source": [
    "b2 ={\"1stname\":\"Kirill\",\"2ndname\":\"Dolbnev\", \"age\":\"27\", \"hair\":\"dark hair\"}\n",
    "b2\n",
    "b2[\"1stname\"]\n",
    "b2.keys()\n",
    "b2.values()\n",
    "\"1stname\" in b2 # it search the values in keys"
   ]
  },
  {
   "cell_type": "code",
   "execution_count": 200,
   "metadata": {},
   "outputs": [
    {
     "name": "stdout",
     "output_type": "stream",
     "text": [
      "2\n",
      "3\n",
      "4\n",
      "5\n",
      "6\n",
      "7\n",
      "8\n",
      "9\n",
      "10\n"
     ]
    }
   ],
   "source": [
    "for v in range(1,10):#the way how loop work\n",
    "    b= v+1\n",
    "    print (b)      "
   ]
  },
  {
   "cell_type": "markdown",
   "metadata": {},
   "source": [
    "# List "
   ]
  },
  {
   "cell_type": "code",
   "execution_count": 117,
   "metadata": {},
   "outputs": [],
   "source": [
    "list1 = [\n",
    "    \"string\",\n",
    "    1,\n",
    "    [\"Anothe\",\"list\"],\n",
    "    {\n",
    "    \"name\":\"John\", \n",
    "    \"age\":10\n",
    "    },\n",
    "    None\n",
    "        ]"
   ]
  },
  {
   "cell_type": "code",
   "execution_count": 125,
   "metadata": {},
   "outputs": [
    {
     "data": {
      "text/plain": [
       "['string', 1, ['Anothe', 'list'], {'name': 'John', 'age': 10}, None]"
      ]
     },
     "execution_count": 125,
     "metadata": {},
     "output_type": "execute_result"
    }
   ],
   "source": [
    "list1"
   ]
  },
  {
   "cell_type": "code",
   "execution_count": 124,
   "metadata": {},
   "outputs": [
    {
     "data": {
      "text/plain": [
       "('string', 1, ['Anothe', 'list'], {'name': 'John', 'age': 10}, None)"
      ]
     },
     "execution_count": 124,
     "metadata": {},
     "output_type": "execute_result"
    }
   ],
   "source": [
    "tuple1 = tuple(list1)\n",
    "tuple1\n"
   ]
  },
  {
   "cell_type": "code",
   "execution_count": 119,
   "metadata": {},
   "outputs": [],
   "source": [
    "n1 = \"Kirill\"\n",
    "dictionary ={\n",
    "    \"First name\":n1,\n",
    "    \"cars\":[\n",
    "        \"Mersedess\",\n",
    "        \"Toyota\",\n",
    "        \"Jeep\"\n",
    "    ],\n",
    "    \"children\":\n",
    "    {\"name\":\"John\",\"age\":11\n",
    "    }\n",
    "}"
   ]
  },
  {
   "cell_type": "code",
   "execution_count": 126,
   "metadata": {},
   "outputs": [
    {
     "data": {
      "text/plain": [
       "dict_values(['Kirill', ['Mersedess', 'Toyota', 'Jeep'], {'name': 'John', 'age': 11}])"
      ]
     },
     "execution_count": 126,
     "metadata": {},
     "output_type": "execute_result"
    }
   ],
   "source": [
    "dictionary.keys()\n",
    "dictionary.values()\n",
    "\n"
   ]
  },
  {
   "cell_type": "code",
   "execution_count": 136,
   "metadata": {},
   "outputs": [
    {
     "name": "stdout",
     "output_type": "stream",
     "text": [
      "['Mersedess', 'Toyota', 'Jeep']\n",
      "None\n"
     ]
    }
   ],
   "source": [
    "print(dictionary[\"cars\"])\n",
    "print(dictionary.get(\"hh\"))"
   ]
  },
  {
   "cell_type": "code",
   "execution_count": 144,
   "metadata": {},
   "outputs": [
    {
     "name": "stdout",
     "output_type": "stream",
     "text": [
      "['string', 1, ['Anothe', 'list'], {'name': 'John', 'age': 10}, None, 'New String']\n"
     ]
    }
   ],
   "source": [
    "newlist = list(tuple1)\n",
    "newlist.append(\"New String\")\n",
    "tuple(newlist)\n",
    "print(newlist)"
   ]
  },
  {
   "cell_type": "code",
   "execution_count": 145,
   "metadata": {},
   "outputs": [
    {
     "data": {
      "text/plain": [
       "\"string,1,['Anothe', 'list'],{'name': 'John', 'age': 10},None\""
      ]
     },
     "execution_count": 145,
     "metadata": {},
     "output_type": "execute_result"
    }
   ],
   "source": [
    "a,b,c,d,e = tuple1 # unpacking - specifying the variables to each key\n",
    "f\"{a},{b},{c},{d},{e}\""
   ]
  },
  {
   "cell_type": "markdown",
   "metadata": {},
   "source": [
    "## Task"
   ]
  },
  {
   "cell_type": "code",
   "execution_count": 166,
   "metadata": {},
   "outputs": [
    {
     "name": "stdout",
     "output_type": "stream",
     "text": [
      "[1, 2, 3, 4, 5, 6, 7, 8, 9, 10, 11, 12, 13, 14, 15, 16, 17, 18, 19, 20, 21, 22, 23, 24, 25, 26, 27, 28, 29, 30, 31, 32, 33, 34, 35, 36, 37, 38, 39, 40, 41, 42, 43, 44, 45, 46, 47, 48, 49, 50, 51, 52, 53, 54, 55, 56, 57, 58, 59, 60, 61, 62, 63, 64, 65, 66, 67, 68, 69, 70, 71, 72, 73, 74, 75, 76, 77, 78, 79, 80, 81, 82, 83, 84, 85, 86, 87, 88, 89, 90, 91, 92, 93, 94, 95, 96, 97, 98, 99, 100]\n"
     ]
    }
   ],
   "source": [
    "newtab = list(range(1,101))\n",
    "tuple(newtab)\n",
    "\n",
    "print(newtab)"
   ]
  },
  {
   "cell_type": "code",
   "execution_count": 168,
   "metadata": {},
   "outputs": [
    {
     "name": "stdout",
     "output_type": "stream",
     "text": [
      "1 3 5 7 9 11 13 15 17 19 21 23 25 27 29 31 33 35 37 39 41 43 45 47 49 51 53 55 57 59 61 63 65 67 69 71 73 75 77 79 81 83 85 87 89 91 93 95 97 99 "
     ]
    }
   ],
   "source": [
    "for num in newtab: \n",
    "    if num % 2 != 0: \n",
    "       print(num, end = \" \") "
   ]
  },
  {
   "cell_type": "code",
   "execution_count": 185,
   "metadata": {},
   "outputs": [
    {
     "name": "stdout",
     "output_type": "stream",
     "text": [
      "[1, 3, 5, 7, 9, 11, 13, 15, 17, 19, 21, 23, 25, 27, 29, 31, 33, 35, 37, 39, 41, 43, 45, 47, 49, 51, 53, 55, 57, 59, 61, 63, 65, 67, 69, 71, 73, 75, 77, 79, 81, 83, 85, 87, 89, 91, 93, 95, 97, 99]\n",
      "___\n",
      "[10, 20, 30, 40, 50, 60, 70, 80, 90, 100]\n",
      "___\n",
      "[3, 9, 15, 21, 27, 33, 39, 45, 51, 57, 63, 69, 75, 81, 87, 93, 99]\n"
     ]
    }
   ],
   "source": [
    "all_num = list(range(1,101))\n",
    "odd_nums = []\n",
    "for num in all_num:\n",
    "    if num % 2 != 0:\n",
    "        odd_nums.append(num)\n",
    "print (odd_nums)\n",
    "print(\"___\")\n",
    "odd_nums_3 = []\n",
    "for num in all_num:\n",
    "    if num % 10 == 0:\n",
    "        odd_nums_3.append(num)\n",
    "print (odd_nums_3)\n",
    "\n",
    "\n",
    "print(\"___\")\n",
    "\n",
    "odd_nums_4 = []\n",
    "for num in all_num:\n",
    "    if num % 3 == 0 and num % 2 != 0:\n",
    "        odd_nums_4.append(num)\n",
    "print (odd_nums_4)"
   ]
  },
  {
   "cell_type": "code",
   "execution_count": 192,
   "metadata": {},
   "outputs": [
    {
     "name": "stdout",
     "output_type": "stream",
     "text": [
      "[1, 2, 3, 4, 5]\n"
     ]
    }
   ],
   "source": [
    "vb = []\n",
    "for v in range(1,6): #the way how loop work\n",
    "    vb.append(v)\n",
    "print(vb)"
   ]
  },
  {
   "cell_type": "code",
   "execution_count": 193,
   "metadata": {},
   "outputs": [
    {
     "data": {
      "text/plain": [
       "[1, 2, 3, 4, 5]"
      ]
     },
     "execution_count": 193,
     "metadata": {},
     "output_type": "execute_result"
    }
   ],
   "source": [
    "list1 = vb\n",
    "list1"
   ]
  },
  {
   "cell_type": "code",
   "execution_count": 210,
   "metadata": {},
   "outputs": [
    {
     "name": "stdout",
     "output_type": "stream",
     "text": [
      "3\n",
      "4\n",
      "5\n",
      "6\n",
      "7\n",
      "8\n",
      "9\n",
      "10\n",
      "11\n"
     ]
    }
   ],
   "source": [
    "for v in range(1,10):#the way how loop work\n",
    "    b= v +2\n",
    "    print (b) "
   ]
  },
  {
   "cell_type": "code",
   "execution_count": 208,
   "metadata": {},
   "outputs": [
    {
     "name": "stdout",
     "output_type": "stream",
     "text": [
      "21\n"
     ]
    }
   ],
   "source": [
    "def fibonacci(n): \n",
    "    a = 0\n",
    "    b = 1\n",
    "    if n < 0: \n",
    "        print(\"Incorrect input\") \n",
    "    elif n == 0: \n",
    "        return a \n",
    "    elif n == 1: \n",
    "        return b \n",
    "    else: \n",
    "        for i in range(2,n): \n",
    "            c = a + b \n",
    "            a = b \n",
    "            b = c \n",
    "        return b \n",
    "  \n",
    "# Driver Program \n",
    "  \n",
    "print(fibonacci(9)) "
   ]
  },
  {
   "cell_type": "code",
   "execution_count": null,
   "metadata": {},
   "outputs": [],
   "source": []
  }
 ],
 "metadata": {
  "kernelspec": {
   "display_name": "Python 3",
   "language": "python",
   "name": "python3"
  },
  "language_info": {
   "codemirror_mode": {
    "name": "ipython",
    "version": 3
   },
   "file_extension": ".py",
   "mimetype": "text/x-python",
   "name": "python",
   "nbconvert_exporter": "python",
   "pygments_lexer": "ipython3",
   "version": "3.7.3"
  }
 },
 "nbformat": 4,
 "nbformat_minor": 2
}
